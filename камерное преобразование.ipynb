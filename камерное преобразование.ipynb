{
 "cells": [
  {
   "cell_type": "code",
   "execution_count": 1,
   "metadata": {},
   "outputs": [],
   "source": [
    "import matplotlib.pyplot as plt\n",
    "import numpy as np\n",
    "from PIL import Image, ImageDraw\n",
    "\n",
    "def loadMesh(filename: str) -> list[float]:\n",
    "    v = []\n",
    "    vt = []\n",
    "    vn = []\n",
    "\n",
    "    vertices = []\n",
    "\n",
    "    with open(filename, \"r\") as file:\n",
    "\n",
    "        line = file.readline()\n",
    "\n",
    "        while line:\n",
    "\n",
    "            words = line.split(\" \")\n",
    "            if words[0]==\"v\":\n",
    "                v.append(read_vertex_data(words))\n",
    "            elif words[0]==\"f\":\n",
    "                face = []            \n",
    "                for word in words[1:]:\n",
    "                    w = word.split('/')\n",
    "\n",
    "                    face.append(int(w[0]))\n",
    "                    vertices.append(v[int(w[0])-1])\n",
    "\n",
    "                # read_face_data(words, v, vertices)\n",
    "            \n",
    "            line = file.readline()\n",
    "    # print(v[1200],v[1201])\n",
    "    # print(vertices[-3],vertices[-2])\n",
    "    return vertices\n",
    "def read_vertex_data(words: list[str]) -> list[float]:\n",
    "    #вершины\n",
    "    return [\n",
    "        float(words[1]),\n",
    "        float(words[2]),\n",
    "        float(words[3])\n",
    "    ]\n",
    "\n",
    "    \n",
    "def odnor(coord):\n",
    "    new=[]\n",
    "    for i in range(len(coord)):\n",
    "        new.append(list(coord[i]))\n",
    "        new[i].append(1)\n",
    "    return new"
   ]
  },
  {
   "cell_type": "code",
   "execution_count": 2,
   "metadata": {},
   "outputs": [
    {
     "name": "stdout",
     "output_type": "stream",
     "text": [
      "[[-0.70710678  0.          0.70710678  0.        ]\n",
      " [-0.33129458  0.88345221 -0.33129458  0.        ]\n",
      " [-0.62469505 -0.46852129 -0.62469505  0.        ]\n",
      " [ 0.          0.          0.          1.        ]]\n"
     ]
    }
   ],
   "source": [
    "from numpy.linalg import norm\n",
    "def camera(coord,cam,a,img):\n",
    "    n=len(coord)\n",
    "    up=np.array([0,1,0])\n",
    "    # print(cam,up,a)\n",
    "    w=(a-cam)/norm((a-cam))\n",
    "    u=np.cross(cam,up)/norm(np.cross(cam,up))\n",
    "    v=np.cross(w,u)\n",
    "    preobr=np.eye(4,4)\n",
    "    preobr[0,:-1]=u\n",
    "    preobr[1,:-1]=v\n",
    "    preobr[2,:-1]=w\n",
    "\n",
    "\n",
    "    print(preobr)\n",
    "    new=odnor(coord)\n",
    "    back=[]\n",
    "    h=img.height/2\n",
    "    new=np.dot(new,preobr)\n",
    "    for i in range(n):\n",
    "        back.append(tuple(new[i][0:-1]/new[i][-1]))\n",
    "    return back\n",
    "\n",
    "img = Image.new(\"RGB\",(2400,2400), (255,255,255))\n",
    "points=(loadMesh('african_head.obj'))\n",
    "h=img.height/2\n",
    "new_c= camera(points,np.array([4,4,4]),np.array([0,1,0]),img)\n",
    "# new_c= points\n",
    "draw = ImageDraw.Draw(img)\n",
    "for i in range(0,int(len(new_c))-2,3):\n",
    "   \n",
    "    draw.polygon([(600*(2-new_c[i][0]),600*(2-new_c[i][1])),(600*(2-new_c[i+1][0]),600*(2-new_c[i+1][1])),(600*(2-new_c[i+2][0]),600*(2-new_c[i+2][1]))], outline='black')\n",
    "    \n",
    "    \n",
    "img.show()"
   ]
  },
  {
   "cell_type": "code",
   "execution_count": 3,
   "metadata": {},
   "outputs": [],
   "source": [
    "def z_buffer(coord,fon,img):\n",
    "    z_buffer = [[float('inf') for _ in range(img.width)] for _ in range(img.height)]\n",
    "    "
   ]
  }
 ],
 "metadata": {
  "kernelspec": {
   "display_name": "Python 3",
   "language": "python",
   "name": "python3"
  },
  "language_info": {
   "codemirror_mode": {
    "name": "ipython",
    "version": 3
   },
   "file_extension": ".py",
   "mimetype": "text/x-python",
   "name": "python",
   "nbconvert_exporter": "python",
   "pygments_lexer": "ipython3",
   "version": "3.9.6"
  }
 },
 "nbformat": 4,
 "nbformat_minor": 2
}
