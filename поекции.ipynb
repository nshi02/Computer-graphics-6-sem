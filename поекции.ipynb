{
 "cells": [
  {
   "cell_type": "code",
   "execution_count": 1,
   "metadata": {},
   "outputs": [],
   "source": [
    "import matplotlib.pyplot as plt\n",
    "import numpy as np\n",
    "from PIL import Image, ImageDraw\n",
    "\n",
    "def loadMesh(filename: str) -> list[float]:\n",
    "    v = []\n",
    "    vt = []\n",
    "    vn = []\n",
    "\n",
    "    vertices = []\n",
    "\n",
    "    with open(filename, \"r\") as file:\n",
    "\n",
    "        line = file.readline()\n",
    "\n",
    "        while line:\n",
    "\n",
    "            words = line.split(\" \")\n",
    "            if words[0]==\"v\":\n",
    "                v.append(read_vertex_data(words))\n",
    "            elif words[0]==\"f\":\n",
    "                face = []            \n",
    "                for word in words[1:]:\n",
    "                    w = word.split('/')\n",
    "\n",
    "                    face.append(int(w[0]))\n",
    "                    vertices.append(v[int(w[0])-1])\n",
    "\n",
    "                # read_face_data(words, v, vertices)\n",
    "            \n",
    "            line = file.readline()\n",
    "    # print(v[1200],v[1201])\n",
    "    # print(vertices[-3],vertices[-2])\n",
    "    return vertices\n",
    "def read_vertex_data(words: list[str]) -> list[float]:\n",
    "    #вершины\n",
    "    return [\n",
    "        float(words[1]),\n",
    "        float(words[2]),\n",
    "        float(words[3])\n",
    "    ]\n",
    "\n",
    "    \n",
    "def odnor(coord):\n",
    "    new=[]\n",
    "    for i in range(len(coord)):\n",
    "        new.append(list(coord[i]))\n",
    "        new[i].append(1)\n",
    "    return new"
   ]
  },
  {
   "cell_type": "markdown",
   "metadata": {},
   "source": [
    "Проекции на плоскости"
   ]
  },
  {
   "cell_type": "markdown",
   "metadata": {},
   "source": [
    "XOY"
   ]
  },
  {
   "cell_type": "code",
   "execution_count": 2,
   "metadata": {},
   "outputs": [],
   "source": [
    "img = Image.new(\"RGB\",(1200,1200), (255,255,255))\n",
    "points=(loadMesh('african_head.obj'))\n",
    "h=img.height/2\n",
    "new_c= points\n",
    "draw = ImageDraw.Draw(img)\n",
    "\n",
    "for i in range(0,int(len(new_c))-2,3):\n",
    "   \n",
    "    draw.polygon([(600*(1-new_c[i][0]),600*(1-new_c[i][1])),(600*(1-new_c[i+1][0]),600*(1-new_c[i+1][1])),(600*(1-new_c[i+2][0]),600*(1-new_c[i+2][1]))], outline='black')\n",
    "    \n",
    "    \n",
    "img.show()"
   ]
  },
  {
   "cell_type": "markdown",
   "metadata": {},
   "source": [
    "YOZ"
   ]
  },
  {
   "cell_type": "code",
   "execution_count": 3,
   "metadata": {},
   "outputs": [],
   "source": [
    "img = Image.new(\"RGB\",(1200,1200), (255,255,255))\n",
    "points=(loadMesh('african_head.obj'))\n",
    "h=img.height/2\n",
    "\n",
    "draw = ImageDraw.Draw(img)\n",
    "new_c= points\n",
    "for i in range(0,int(len(new_c))-2,3):\n",
    "    # yoz\n",
    "    draw.polygon([(600*(1-new_c[i][1]),600*(1-new_c[i][2])),(600*(1-new_c[i+1][1]),600*(1-new_c[i+1][2])),(600*(1-new_c[i+2][1]),600*(1-new_c[i+2][2]))], outline='black')\n",
    "    \n",
    "img.show()"
   ]
  },
  {
   "cell_type": "markdown",
   "metadata": {},
   "source": [
    "XOZ"
   ]
  },
  {
   "cell_type": "code",
   "execution_count": 4,
   "metadata": {},
   "outputs": [],
   "source": [
    "img = Image.new(\"RGB\",(1200,1200), (255,255,255))\n",
    "points=(loadMesh('african_head.obj'))\n",
    "h=img.height/2\n",
    "\n",
    "draw = ImageDraw.Draw(img)\n",
    "new_c= points\n",
    "for i in range(0,int(len(new_c))-2,3):\n",
    "    # xoz\n",
    "    draw.polygon([(600*(1-new_c[i][0]),600*(1-new_c[i][2])),(600*(1-new_c[i+1][0]),600*(1-new_c[i+1][2])),(600*(1-new_c[i+2][0]),600*(1-new_c[i+2][2]))], outline='black')\n",
    "    \n",
    "    \n",
    "img.show()"
   ]
  },
  {
   "cell_type": "markdown",
   "metadata": {},
   "source": [
    "Матрица косоугольной проекции на XOY"
   ]
  },
  {
   "cell_type": "code",
   "execution_count": 5,
   "metadata": {},
   "outputs": [],
   "source": [
    "def kos_xoy(coord,pr,img):\n",
    "    n=len(coord)\n",
    "    preobr=np.eye(4,4)\n",
    "    preobr[2,2]=0\n",
    "    preobr[2,0]=pr[0]\n",
    "    preobr[2,1]=pr[1]\n",
    "    # print(preobr)\n",
    "    new=odnor(coord)\n",
    "    back=[]\n",
    "    h=img.height/2\n",
    "    new=np.matmul(new,preobr)\n",
    "    for i in range(n):\n",
    "        back.append(tuple(new[i][0:-1]))\n",
    "    return back\n",
    "\n",
    "img = Image.new(\"RGB\",(2400,2400), (255,255,255))\n",
    "points=(loadMesh('african_head.obj'))\n",
    "h=img.height/2\n",
    "new_c= kos_xoy(points,[np.sqrt(2)/2,np.sqrt(2)/2],img)\n",
    "draw = ImageDraw.Draw(img)\n",
    "\n",
    "for i in range(0,int(len(new_c))-2,3):\n",
    "   \n",
    "    draw.polygon([(600*(2-new_c[i][0]),600*(2-new_c[i][1])),(600*(2-new_c[i+1][0]),600*(2-new_c[i+1][1])),(600*(2-new_c[i+2][0]),600*(2-new_c[i+2][1]))], outline='black')\n",
    "    \n",
    "    \n",
    "img.show()\n"
   ]
  },
  {
   "cell_type": "markdown",
   "metadata": {},
   "source": [
    "одноточечная проекция"
   ]
  },
  {
   "cell_type": "code",
   "execution_count": 10,
   "metadata": {},
   "outputs": [
    {
     "name": "stdout",
     "output_type": "stream",
     "text": [
      "[[1.  0.  0.  0. ]\n",
      " [0.  1.  0.  0. ]\n",
      " [0.  0.  0.  0.5]\n",
      " [0.  0.  0.  1. ]]\n"
     ]
    }
   ],
   "source": [
    "def one_point(coord,pr,img):\n",
    "    n=len(coord)\n",
    "    preobr=np.eye(4,4)\n",
    "    preobr[2,2]=0\n",
    "    preobr[2,3]=pr\n",
    "    print(preobr)\n",
    "    new=odnor(coord)\n",
    "    back=[]\n",
    "    h=img.height/2\n",
    "    new=np.dot(new,preobr)\n",
    "    for i in range(n):\n",
    "        back.append(tuple(new[i][0:-1]/new[i][-1]))\n",
    "    return back\n",
    "\n",
    "img = Image.new(\"RGB\",(2400,2400), (255,255,255))\n",
    "points=(loadMesh('african_head.obj'))\n",
    "h=img.height/2\n",
    "new_c= one_point(points,0.5,img)\n",
    "# new_c= points\n",
    "draw = ImageDraw.Draw(img)\n",
    "for i in range(0,int(len(new_c))-2,3):\n",
    "   \n",
    "    draw.polygon([(600*(2-new_c[i][0]),600*(2-new_c[i][1])),(600*(2-new_c[i+1][0]),600*(2-new_c[i+1][1])),(600*(2-new_c[i+2][0]),600*(2-new_c[i+2][1]))], outline='black')\n",
    "    \n",
    "    \n",
    "img.show()"
   ]
  },
  {
   "cell_type": "code",
   "execution_count": 7,
   "metadata": {},
   "outputs": [
    {
     "name": "stdout",
     "output_type": "stream",
     "text": [
      "[-0.126228, -0.116368, 0.360528]\n",
      "(-0.15398616139830384, -0.14195789864053793, 0.0)\n"
     ]
    }
   ],
   "source": [
    "print(points[-1])\n",
    "print(new_c[-1])"
   ]
  }
 ],
 "metadata": {
  "kernelspec": {
   "display_name": "Python 3",
   "language": "python",
   "name": "python3"
  },
  "language_info": {
   "codemirror_mode": {
    "name": "ipython",
    "version": 3
   },
   "file_extension": ".py",
   "mimetype": "text/x-python",
   "name": "python",
   "nbconvert_exporter": "python",
   "pygments_lexer": "ipython3",
   "version": "3.9.6"
  }
 },
 "nbformat": 4,
 "nbformat_minor": 2
}
